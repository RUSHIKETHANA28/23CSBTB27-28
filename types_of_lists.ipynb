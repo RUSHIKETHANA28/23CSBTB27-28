{
  "nbformat": 4,
  "nbformat_minor": 0,
  "metadata": {
    "colab": {
      "provenance": [],
      "authorship_tag": "ABX9TyNaLLaWFoKnCZU99KPZqu7F",
      "include_colab_link": true
    },
    "kernelspec": {
      "name": "python3",
      "display_name": "Python 3"
    },
    "language_info": {
      "name": "python"
    }
  },
  "cells": [
    {
      "cell_type": "markdown",
      "metadata": {
        "id": "view-in-github",
        "colab_type": "text"
      },
      "source": [
        "<a href=\"https://colab.research.google.com/github/RUSHIKETHANA28/23CSBTB27-28/blob/main/types_of_lists.ipynb\" target=\"_parent\"><img src=\"https://colab.research.google.com/assets/colab-badge.svg\" alt=\"Open In Colab\"/></a>"
      ]
    },
    {
      "cell_type": "code",
      "execution_count": null,
      "metadata": {
        "id": "4hHl98Cmjp3D"
      },
      "outputs": [],
      "source": []
    },
    {
      "cell_type": "markdown",
      "source": [
        "Data structures using numpy pandas\n"
      ],
      "metadata": {
        "id": "Ru0DpEeFjskH"
      }
    },
    {
      "cell_type": "code",
      "source": [
        "import numpy as np\n",
        "list={1,5,2,6,7}\n",
        "list1=[3,6,1,8]\n",
        "print(list)\n",
        "print(list1)\n",
        "print(type(list))\n",
        "print(type(list1))"
      ],
      "metadata": {
        "colab": {
          "base_uri": "https://localhost:8080/"
        },
        "id": "B5MAOeauj-un",
        "outputId": "7871d8b3-a464-446d-9c2b-7fd405138bce"
      },
      "execution_count": 5,
      "outputs": [
        {
          "output_type": "stream",
          "name": "stdout",
          "text": [
            "{1, 2, 5, 6, 7}\n",
            "[3, 6, 1, 8]\n",
            "<class 'set'>\n",
            "<class 'list'>\n"
          ]
        }
      ]
    },
    {
      "cell_type": "code",
      "source": [
        "list=[\"Greeks\",\"For\",\"Geeks\"]\n",
        "list2=\"my first lab\"\n",
        "list3=4.3\n",
        "list4=2j+6\n",
        "list5='my first. lab'\n",
        "print(type(list2))\n",
        "print(type(list3))\n",
        "print(type(list4))\n",
        "print(type(list5))\n",
        "print(type(list))\n",
        "print(\"\\nlist items:\")\n",
        "print(list)\n",
        "print(type(list))\n",
        "print(list[0])\n",
        "print(list[2])"
      ],
      "metadata": {
        "colab": {
          "base_uri": "https://localhost:8080/"
        },
        "id": "p03pWz2ImZvD",
        "outputId": "f459a3a1-7472-4d9a-b7ca-46716fdb99de"
      },
      "execution_count": 8,
      "outputs": [
        {
          "output_type": "stream",
          "name": "stdout",
          "text": [
            "<class 'str'>\n",
            "<class 'float'>\n",
            "<class 'complex'>\n",
            "<class 'str'>\n",
            "<class 'list'>\n",
            "\n",
            "list items:\n",
            "['Greeks', 'For', 'Geeks']\n",
            "<class 'list'>\n",
            "Greeks\n",
            "Geeks\n"
          ]
        }
      ]
    },
    {
      "cell_type": "code",
      "source": [
        "list={1:\"greek1\",2: 'Geeks','For':3,'Geeks':6}\n",
        "print(\"\\nList with the use of mixed values : \")\n",
        "print(list)\n",
        "print(type(list))"
      ],
      "metadata": {
        "colab": {
          "base_uri": "https://localhost:8080/"
        },
        "id": "tA385bR5o5YK",
        "outputId": "fa93c271-88db-4c4b-e168-28f68d6c7ec0"
      },
      "execution_count": 13,
      "outputs": [
        {
          "output_type": "stream",
          "name": "stdout",
          "text": [
            "\n",
            "List with the use of mixed values : \n",
            "{1: 'greek1', 2: 'Geeks', 'For': 3, 'Geeks': 6}\n",
            "<class 'dict'>\n"
          ]
        }
      ]
    },
    {
      "cell_type": "code",
      "source": [],
      "metadata": {
        "id": "2F709l-ppeE5"
      },
      "execution_count": null,
      "outputs": []
    }
  ]
}