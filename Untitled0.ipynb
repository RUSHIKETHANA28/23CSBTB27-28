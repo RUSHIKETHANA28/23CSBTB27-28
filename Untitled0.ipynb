{
  "nbformat": 4,
  "nbformat_minor": 0,
  "metadata": {
    "colab": {
      "provenance": [],
      "authorship_tag": "ABX9TyN40rPId8ZAuofm3gZvj8vV",
      "include_colab_link": true
    },
    "kernelspec": {
      "name": "python3",
      "display_name": "Python 3"
    },
    "language_info": {
      "name": "python"
    }
  },
  "cells": [
    {
      "cell_type": "markdown",
      "metadata": {
        "id": "view-in-github",
        "colab_type": "text"
      },
      "source": [
        "<a href=\"https://colab.research.google.com/github/RUSHIKETHANA28/23CSBTB27-28/blob/main/Untitled0.ipynb\" target=\"_parent\"><img src=\"https://colab.research.google.com/assets/colab-badge.svg\" alt=\"Open In Colab\"/></a>"
      ]
    },
    {
      "cell_type": "code",
      "execution_count": null,
      "metadata": {
        "id": "wOvdmYDYvc0e"
      },
      "outputs": [],
      "source": []
    },
    {
      "cell_type": "markdown",
      "source": [],
      "metadata": {
        "id": "R5KbdOhavgTj"
      }
    },
    {
      "cell_type": "markdown",
      "source": [
        "Creation Array and Array Operation"
      ],
      "metadata": {
        "id": "3_zz8IOjvl8u"
      }
    },
    {
      "cell_type": "code",
      "source": [
        "import numpy as np\n",
        "array=np.array([2,5,3,7,3])\n",
        "print(array)\n",
        "print(type(array))"
      ],
      "metadata": {
        "colab": {
          "base_uri": "https://localhost:8080/"
        },
        "id": "t_q2nifwvr-8",
        "outputId": "ac1cef4d-5bd9-4f44-9d4d-1cd8a8d55d56"
      },
      "execution_count": 1,
      "outputs": [
        {
          "output_type": "stream",
          "name": "stdout",
          "text": [
            "[2 5 3 7 3]\n",
            "<class 'numpy.ndarray'>\n"
          ]
        }
      ]
    },
    {
      "cell_type": "code",
      "source": [
        "import numpy as np\n",
        "array=np.array([[2,5],[4,2]])\n",
        "array1=np.array([[2,5,4,2],[4,2,1,0]])\n",
        "array2=np.array([[2,5,4],[4,2,5],[6,7,8]])\n",
        "print(array)\n",
        "print(array1)\n",
        "print(array2)"
      ],
      "metadata": {
        "colab": {
          "base_uri": "https://localhost:8080/"
        },
        "id": "-eqMAf2wzJZX",
        "outputId": "6770c21a-c845-4593-a139-a84a34030614"
      },
      "execution_count": 4,
      "outputs": [
        {
          "output_type": "stream",
          "name": "stdout",
          "text": [
            "[[2 5]\n",
            " [4 2]]\n",
            "[[2 5 4 2]\n",
            " [4 2 1 0]]\n",
            "[[2 5 4]\n",
            " [4 2 5]\n",
            " [6 7 8]]\n"
          ]
        }
      ]
    },
    {
      "cell_type": "code",
      "source": [
        "\n",
        "import numpy as np\n",
        "array1=np.array([1,3,4,5,6])\n",
        "array2=np.array([2,6,3,4,8])\n",
        "print(array)\n",
        "print(np.add(array1,array2))\n",
        "print(np.multiply(array1,array2))\n",
        "print(np.subtract(array2,array1))\n",
        "print(np.divide(array2,array1))\n",
        "print(type(array))\n"
      ],
      "metadata": {
        "colab": {
          "base_uri": "https://localhost:8080/"
        },
        "id": "ILtwfIth0QUJ",
        "outputId": "c2d01978-d30a-43d6-c366-63cc9de5b6d7"
      },
      "execution_count": 7,
      "outputs": [
        {
          "output_type": "stream",
          "name": "stdout",
          "text": [
            "[[2 5]\n",
            " [4 2]]\n",
            "[ 3  9  7  9 14]\n",
            "[ 2 18 12 20 48]\n",
            "[ 1  3 -1 -1  2]\n",
            "[2.         2.         0.75       0.8        1.33333333]\n",
            "<class 'numpy.ndarray'>\n"
          ]
        }
      ]
    },
    {
      "cell_type": "markdown",
      "source": [],
      "metadata": {
        "id": "NLFjqjAKvhHH"
      }
    }
  ]
}