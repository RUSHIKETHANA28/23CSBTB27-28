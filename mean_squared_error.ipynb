{
  "nbformat": 4,
  "nbformat_minor": 0,
  "metadata": {
    "colab": {
      "provenance": [],
      "authorship_tag": "ABX9TyO0m/6spPvOyQiBi0fSqvvU",
      "include_colab_link": true
    },
    "kernelspec": {
      "name": "python3",
      "display_name": "Python 3"
    },
    "language_info": {
      "name": "python"
    }
  },
  "cells": [
    {
      "cell_type": "markdown",
      "metadata": {
        "id": "view-in-github",
        "colab_type": "text"
      },
      "source": [
        "<a href=\"https://colab.research.google.com/github/RUSHIKETHANA28/23CSBTB27-28/blob/main/mean_squared_error.ipynb\" target=\"_parent\"><img src=\"https://colab.research.google.com/assets/colab-badge.svg\" alt=\"Open In Colab\"/></a>"
      ]
    },
    {
      "cell_type": "code",
      "execution_count": null,
      "metadata": {
        "colab": {
          "base_uri": "https://localhost:8080/"
        },
        "id": "4JlwTr4a7KxT",
        "outputId": "f6ff31b2-6299-4c9a-c0bf-42bfd413bc2f"
      },
      "outputs": [
        {
          "output_type": "stream",
          "name": "stdout",
          "text": [
            "Mean Squared Error: 0.5558915986952444\n",
            "R-squared: 0.5757877060324508\n"
          ]
        }
      ],
      "source": [
        "import numpy as np\n",
        "import pandas as pd\n",
        "from sklearn.datasets import fetch_california_housing  # Use fetch_california_housing instead of load_boston\n",
        "from sklearn.model_selection import train_test_split\n",
        "from sklearn.linear_model import LinearRegression\n",
        "from sklearn.metrics import mean_squared_error, r2_score\n",
        "\n",
        "# Load the California housing dataset\n",
        "housing = fetch_california_housing()\n",
        "\n",
        "# Convert the dataset to a DataFrame for easier manipulation\n",
        "data = pd.DataFrame(housing.data, columns=housing.feature_names)\n",
        "data['MEDV'] = housing.target  # MEDV is the target variable, using the same name for consistency\n",
        "\n",
        "# Define the features (X) and the target (y)\n",
        "X = data.drop(columns=['MEDV'])  # Features\n",
        "y = data['MEDV']                # Target (Median value of homes)\n",
        "\n",
        "# Split the data into training and test sets\n",
        "X_train, X_test, y_train, y_test = train_test_split(X, y, test_size=0.2, random_state=42)\n",
        "\n",
        "# Create a LinearRegression model\n",
        "model = LinearRegression()\n",
        "\n",
        "# Train the model (fit)\n",
        "model.fit(X_train, y_train)\n",
        "# Make predictions using the test data\n",
        "y_pred = model.predict(X_test)\n",
        "\n",
        "# Calculate Mean Squared Error (MSE) and R-squared (R2)\n",
        "mse = mean_squared_error(y_test, y_pred)\n",
        "r2 = r2_score(y_test, y_pred)\n",
        "\n",
        "print(f'Mean Squared Error: {mse}')\n",
        "print(f'R-squared: {r2}')"
      ]
    },
    {
      "cell_type": "code",
      "source": [
        "from sklearn.datasets import load_diabetes\n",
        "from sklearn.linear_model import LogisticRegression\n",
        "\n",
        "from sklearn.model_selection import train_test_split\n",
        "\n",
        "from sklearn import metrics\n",
        "\n",
        "import pandas as pd\n",
        "\n",
        "import numpy as np\n",
        "\n",
        "import matplotlib.pyplot as plt\n",
        "\n",
        "import seaborn as sns\n",
        "\n",
        "# Now you can load the dataset using:\n",
        "diabetes_data = load_diabetes()\n",
        "\n",
        " #Convert the 'Bunch' object to a Pandas DataFrame\n",
        "diabetes_df = pd.DataFrame(diabetes_data.data, columns=diabetes_data.feature_names)\n",
        "diabetes_df['target'] = diabetes_data.target\n",
        "\n",
        "# Now you can use .head()\n",
        "diabetes_df.head()\n",
        "\n",
        "#split dataset in features and target variable\n",
        "\n",
        "diabetes_cols = ['age', 'sex', 'bmi', 'bp', 's1', 's2', 's3', 's4', 's5', 's6']\n",
        "\n",
        "X = diabetes_df[diabetes_cols]# Features\n",
        "\n",
        "y = diabetes_df['target'] # Target variable\n",
        "\n",
        "X_train,X_test,y_train,y_test=train_test_split(X,y,test_size=0.25,random_state=0)\n",
        "\n",
        "# instantiate the model\n",
        "\n",
        "logreg =  LogisticRegression(solver='liblinear')\n",
        "\n",
        "\n",
        "\n",
        "# fit the model with data\n",
        "\n",
        "logreg.fit(X_train,y_train)\n",
        "\n",
        "\n",
        "\n",
        "# predicting\n",
        "\n",
        "y_pred=logreg.predict(X_test)\n",
        "\n",
        "y_pred\n",
        "\n",
        "cnf_matrix = metrics.confusion_matrix(y_test, y_pred)\n",
        "\n",
        "cnf_matrix\n",
        "\n",
        "print(\"Accuracy:\",metrics.accuracy_score(y_test, y_pred))\n",
        "\n",
        "print(\"Precision:\",metrics.precision_score(y_test, y_pred, average='weighted')) # Change is here\n",
        "\n",
        "print(\"Recall:\",metrics.recall_score(y_test, y_pred, average='weighted')) # Change is here"
      ],
      "metadata": {
        "colab": {
          "base_uri": "https://localhost:8080/"
        },
        "id": "lRhN_7dEDHrI",
        "outputId": "287e9f46-35cd-4a0d-81ca-95db59692e59"
      },
      "execution_count": null,
      "outputs": [
        {
          "output_type": "stream",
          "name": "stdout",
          "text": [
            "Accuracy: 0.009009009009009009\n",
            "Precision: 0.00022522522522522523\n",
            "Recall: 0.009009009009009009\n"
          ]
        },
        {
          "output_type": "stream",
          "name": "stderr",
          "text": [
            "/usr/local/lib/python3.10/dist-packages/sklearn/metrics/_classification.py:1531: UndefinedMetricWarning: Precision is ill-defined and being set to 0.0 in labels with no predicted samples. Use `zero_division` parameter to control this behavior.\n",
            "  _warn_prf(average, modifier, f\"{metric.capitalize()} is\", len(result))\n",
            "/usr/local/lib/python3.10/dist-packages/sklearn/metrics/_classification.py:1531: UndefinedMetricWarning: Recall is ill-defined and being set to 0.0 in labels with no true samples. Use `zero_division` parameter to control this behavior.\n",
            "  _warn_prf(average, modifier, f\"{metric.capitalize()} is\", len(result))\n"
          ]
        }
      ]
    }
  ]
}